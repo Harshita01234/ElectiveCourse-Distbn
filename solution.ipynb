{
 "cells": [
  {
   "cell_type": "code",
   "execution_count": 2,
   "metadata": {},
   "outputs": [],
   "source": [
    "# import numpy as np\n",
    "import pandas as pd"
   ]
  },
  {
   "cell_type": "code",
   "execution_count": 3,
   "metadata": {},
   "outputs": [],
   "source": [
    "data = pd.read_excel(\"dsx.xlsx\")"
   ]
  },
  {
   "cell_type": "code",
   "execution_count": 4,
   "metadata": {},
   "outputs": [],
   "source": [
    "# Sort students by GPA in descending order\n",
    "data.sort_values(by='CGPA', ascending=False, inplace=True)"
   ]
  },
  {
   "cell_type": "code",
   "execution_count": 5,
   "metadata": {},
   "outputs": [],
   "source": [
    "# getting all the unique courses\n",
    "choices_columns = data.loc[:, 'Choice 1':'Choice 8']\n",
    "unique_courses = choices_columns.values.flatten()\n",
    "unique_courses = set(unique_courses)"
   ]
  },
  {
   "cell_type": "code",
   "execution_count": 5,
   "metadata": {},
   "outputs": [],
   "source": [
    "# asking the user to set the capacity of each course\n",
    "# courseCapacities = {}\n",
    "# current_strength  = {}\n",
    "# for i in unique_courses:\n",
    "#     courseCapacities[i] = int(input(f\"Capacity in {i}\")) \n",
    "#     current_strength[i] = 0"
   ]
  },
  {
   "cell_type": "code",
   "execution_count": 12,
   "metadata": {},
   "outputs": [],
   "source": [
    "# dummy data\n",
    "course_capacities = {\n",
    "    'MTN-517 High Temperature Materials (AK)': 23,\n",
    "    'MTN-526 Failure Analysis (RRE)': 23,\n",
    "    'MTN-528 Tribology of Engineering Materials (BVMK)': 23,\n",
    "    'MTN-531 X-ray Diffraction Techniques (SRM)': 23,\n",
    "    'MTN-533 Electron Microscopy (GPC)': 20,\n",
    "    'MTN-548 Diffusion in Solids (VB)': 30,\n",
    "    'MTN-559 Defects in Crystalline Materials (AL)': 30,\n",
    "    'MTN-562 Advanced Steel Technology (SD)': 25\n",
    "}\n",
    "\n",
    "current_strength  = {\n",
    "    'MTN-517 High Temperature Materials (AK)': 0,\n",
    "    'MTN-526 Failure Analysis (RRE)': 0,\n",
    "    'MTN-528 Tribology of Engineering Materials (BVMK)': 0,\n",
    "    'MTN-531 X-ray Diffraction Techniques (SRM)': 0,\n",
    "    'MTN-533 Electron Microscopy (GPC)': 0,\n",
    "    'MTN-548 Diffusion in Solids (VB)': 0,\n",
    "    'MTN-559 Defects in Crystalline Materials (AL)': 0,\n",
    "    'MTN-562 Advanced Steel Technology (SD)': 0\n",
    "}\n",
    "\n",
    "alloted_data = pd.DataFrame(columns=['Enrollment No.', 'Name', 'CGPA', \"Course 1\", \"Course 2\"])\n",
    "\n",
    "for _, row in data.iterrows():\n",
    "    course_alloted = []\n",
    "    for i in range(1, 9):\n",
    "        course = row[f'Choice {i}']\n",
    "        if current_strength[course] < course_capacities[course] and len(course_alloted) < 2:\n",
    "            course_alloted.append(course)\n",
    "            current_strength[course] += 1\n",
    "    if len(course_alloted) == 0:\n",
    "        new_row = {'Enrollment No.': row['Enrollment No.'], 'Name': row['Name'], 'CGPA': row['CGPA'], \"Course 1\": \"\", \"Course 2\": \"\"}\n",
    "        print(f\"{row['Enrollment No.']} | {row['Name']} | {row['CGPA']}  has been allotted 0 courses\")\n",
    "    elif len(course_alloted) == 1:\n",
    "        new_row = {'Enrollment No.': row['Enrollment No.'], 'Name': row['Name'], 'CGPA': row['CGPA'], \"Course 1\": course_alloted[0], \"Course 2\": \"\"}\n",
    "        print(f\"{row['Enrollment No.']} | {row['Name']} | {row['CGPA']}  has been allotted 1 course {course_alloted[0]}\")\n",
    "    else:\n",
    "        new_row = {'Enrollment No.': row['Enrollment No.'], 'Name': row['Name'], 'CGPA': row['CGPA'], \"Course 1\": course_alloted[0], \"Course 2\": course_alloted[1]}\n",
    "    alloted_data = pd.concat([alloted_data, pd.DataFrame([new_row])], ignore_index=True)"
   ]
  },
  {
   "cell_type": "code",
   "execution_count": 13,
   "metadata": {},
   "outputs": [
    {
     "data": {
      "text/plain": [
       "{'MTN-517 High Temperature Materials (AK)': 23,\n",
       " 'MTN-526 Failure Analysis (RRE)': 23,\n",
       " 'MTN-528 Tribology of Engineering Materials (BVMK)': 23,\n",
       " 'MTN-531 X-ray Diffraction Techniques (SRM)': 23,\n",
       " 'MTN-533 Electron Microscopy (GPC)': 20,\n",
       " 'MTN-548 Diffusion in Solids (VB)': 30,\n",
       " 'MTN-559 Defects in Crystalline Materials (AL)': 30,\n",
       " 'MTN-562 Advanced Steel Technology (SD)': 18}"
      ]
     },
     "execution_count": 13,
     "metadata": {},
     "output_type": "execute_result"
    }
   ],
   "source": [
    "current_strength"
   ]
  },
  {
   "cell_type": "code",
   "execution_count": 9,
   "metadata": {},
   "outputs": [
    {
     "name": "stdout",
     "output_type": "stream",
     "text": [
      "Current Strength in each course\n",
      "MTN-517 High Temperature Materials (AK) -> 30\n",
      "MTN-526 Failure Analysis (RRE) -> 30\n",
      "MTN-528 Tribology of Engineering Materials (BVMK) -> 30\n",
      "MTN-531 X-ray Diffraction Techniques (SRM) -> 20\n",
      "MTN-533 Electron Microscopy (GPC) -> 20\n",
      "MTN-548 Diffusion in Solids (VB) -> 20\n",
      "MTN-559 Defects in Crystalline Materials (AL) -> 20\n",
      "MTN-562 Advanced Steel Technology (SD) -> 13\n"
     ]
    }
   ],
   "source": [
    "print(\"Current Strength in each course\")\n",
    "minThreshold = 5\n",
    "for key, value in current_strength.items():\n",
    "    if(value <=5):\n",
    "        print(\"Strength is below min threshold\")\n",
    "    print(f\"{key} -> {value}\")\n",
    "    "
   ]
  },
  {
   "cell_type": "code",
   "execution_count": 10,
   "metadata": {},
   "outputs": [],
   "source": [
    "alloted_data.to_csv(\"alloted.csv\", index=False)"
   ]
  }
 ],
 "metadata": {
  "kernelspec": {
   "display_name": "Python 3",
   "language": "python",
   "name": "python3"
  },
  "language_info": {
   "codemirror_mode": {
    "name": "ipython",
    "version": 3
   },
   "file_extension": ".py",
   "mimetype": "text/x-python",
   "name": "python",
   "nbconvert_exporter": "python",
   "pygments_lexer": "ipython3",
   "version": "3.11.4"
  },
  "orig_nbformat": 4,
  "vscode": {
   "interpreter": {
    "hash": "d771501975f865edd59b3ea6f9c0922c0f986e03622b3ed346a7284fe4f0241e"
   }
  }
 },
 "nbformat": 4,
 "nbformat_minor": 2
}
